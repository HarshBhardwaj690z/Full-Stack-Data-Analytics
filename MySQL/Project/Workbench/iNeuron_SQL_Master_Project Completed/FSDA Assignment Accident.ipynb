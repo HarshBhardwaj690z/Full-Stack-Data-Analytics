{
 "cells": [
  {
   "cell_type": "markdown",
   "id": "bd88d983",
   "metadata": {},
   "source": [
    "# UK Road Safty 2015 data"
   ]
  },
  {
   "cell_type": "code",
   "execution_count": 2,
   "id": "90115578",
   "metadata": {},
   "outputs": [
    {
     "name": "stdout",
     "output_type": "stream",
     "text": [
      "Requirement already satisfied: pymysql in c:\\programdata\\anaconda3\\lib\\site-packages (1.0.2)\n"
     ]
    }
   ],
   "source": [
    "!pip3 install pymysql"
   ]
  },
  {
   "cell_type": "code",
   "execution_count": 5,
   "id": "ccb0e66e",
   "metadata": {},
   "outputs": [],
   "source": [
    "import pymysql"
   ]
  },
  {
   "cell_type": "code",
   "execution_count": 6,
   "id": "466cf40e",
   "metadata": {},
   "outputs": [],
   "source": [
    "import pandas as pd"
   ]
  },
  {
   "cell_type": "code",
   "execution_count": 35,
   "id": "4cd596ed",
   "metadata": {},
   "outputs": [],
   "source": [
    "db_name = \"Accidents\"\n",
    "db_host = \"localhost\"\n",
    "db_username = \"root\"\n",
    "db_password = \"*****\""
   ]
  },
  {
   "cell_type": "code",
   "execution_count": 36,
   "id": "f3493cbc",
   "metadata": {},
   "outputs": [],
   "source": [
    "try:\n",
    "    conn = pymysql.connect(\n",
    "    host= db_host, port = int(3306), user=\"root\", password= db_password, db= db_name)\n",
    "except e:\n",
    "    print(e)"
   ]
  },
  {
   "cell_type": "code",
   "execution_count": 37,
   "id": "cd562b8e",
   "metadata": {},
   "outputs": [
    {
     "name": "stdout",
     "output_type": "stream",
     "text": [
      "Connect Successfully\n"
     ]
    }
   ],
   "source": [
    "if conn:\n",
    "    print(\"Connect Successfully\")\n",
    "else:\n",
    "    print(\"Error\")"
   ]
  },
  {
   "cell_type": "code",
   "execution_count": 38,
   "id": "669b51a2",
   "metadata": {},
   "outputs": [],
   "source": [
    "cur = conn.cursor()"
   ]
  },
  {
   "cell_type": "code",
   "execution_count": 39,
   "id": "1db43d20",
   "metadata": {},
   "outputs": [],
   "source": [
    "cur.execute(\"SELECT vehicle_type FROM vehicle_types WHERE vehicle_type = 'Motorcycle';\")\n",
    "\n",
    "cycle_list = cur.fetchall()"
   ]
  },
  {
   "cell_type": "code",
   "execution_count": 40,
   "id": "9baf6447",
   "metadata": {},
   "outputs": [],
   "source": [
    "selectSQL = ('''\n",
    "SELECT vt.vehicle_type, a.accident_severity\n",
    "FROM accident a\n",
    "JOIN vehicles v ON a.accident_index = v.accident_index\n",
    "JOIN vehicle_types vt ON v.vehicle_type = vt.vehicle_code\n",
    "WHERE vt.vehicle_type LIKE %s\n",
    "ORDER BY a.accident_severity;\n",
    "''')"
   ]
  },
  {
   "cell_type": "code",
   "execution_count": 41,
   "id": "e1d6c1e0",
   "metadata": {},
   "outputs": [],
   "source": [
    "insert_SQL = ('''INSERT INTO accidents_median\n",
    "VALUES(%s, %s);''')"
   ]
  },
  {
   "cell_type": "code",
   "execution_count": 42,
   "id": "70b69bb9",
   "metadata": {},
   "outputs": [
    {
     "name": "stdout",
     "output_type": "stream",
     "text": [
      "finding Median Severity for  Motorcycle\n",
      "finding Median Severity for  Motorcycle\n",
      "finding Median Severity for  Motorcycle\n",
      "finding Median Severity for  Motorcycle\n",
      "finding Median Severity for  Motorcycle\n"
     ]
    }
   ],
   "source": [
    "for cycle in cycle_list:\n",
    "    cur.execute(selectSQL, cycle[0])\n",
    "    accidents = cur.fetchall()\n",
    "\n",
    "    quotient, remainder = divmod(len(accidents), 2)\n",
    "\n",
    "    if remainder:\n",
    "        median_severity = accidents[quotient][1]\n",
    "    else:\n",
    "        median_severity = (accidents[quotient]\n",
    "                           [1] + accidents[quotient + 2][1]) / 2\n",
    "\n",
    "    print(\"finding Median Severity for \", cycle[0])\n",
    "\n",
    "    cur.execute(insert_SQL, (cycle[0], median_severity))\n",
    "\n",
    "conn.commit()\n",
    "conn.close()"
   ]
  },
  {
   "cell_type": "code",
   "execution_count": null,
   "id": "c2b2ff32",
   "metadata": {},
   "outputs": [],
   "source": []
  },
  {
   "cell_type": "code",
   "execution_count": null,
   "id": "5953117f",
   "metadata": {},
   "outputs": [],
   "source": []
  },
  {
   "cell_type": "code",
   "execution_count": null,
   "id": "7443b58f",
   "metadata": {},
   "outputs": [],
   "source": []
  },
  {
   "cell_type": "code",
   "execution_count": null,
   "id": "a1b33851",
   "metadata": {},
   "outputs": [],
   "source": []
  }
 ],
 "metadata": {
  "kernelspec": {
   "display_name": "Python 3 (ipykernel)",
   "language": "python",
   "name": "python3"
  },
  "language_info": {
   "codemirror_mode": {
    "name": "ipython",
    "version": 3
   },
   "file_extension": ".py",
   "mimetype": "text/x-python",
   "name": "python",
   "nbconvert_exporter": "python",
   "pygments_lexer": "ipython3",
   "version": "3.9.12"
  }
 },
 "nbformat": 4,
 "nbformat_minor": 5
}
